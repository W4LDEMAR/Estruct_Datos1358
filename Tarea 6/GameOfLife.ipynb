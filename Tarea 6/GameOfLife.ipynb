{
  "nbformat": 4,
  "nbformat_minor": 0,
  "metadata": {
    "colab": {
      "name": "GameOfLife.ipynb",
      "provenance": [],
      "collapsed_sections": []
    },
    "kernelspec": {
      "name": "python3",
      "display_name": "Python 3"
    },
    "language_info": {
      "name": "python"
    }
  },
  "cells": [
    {
      "cell_type": "code",
      "metadata": {
        "id": "EmDkz3HSC35i"
      },
      "source": [
        "!pip install simple_chalk"
      ],
      "execution_count": null,
      "outputs": []
    },
    {
      "cell_type": "code",
      "metadata": {
        "id": "reniWpwk8xTa"
      },
      "source": [
        "#Estructura de datos\n",
        "#Sosa Hernandez Saul \n",
        "\n",
        "class Array2D():\n",
        "  def __init__(self, fila, columna):\n",
        "    self._fila = fila\n",
        "    self._columna = columna\n",
        "    self._data = [[0] * (self._columna) for x in range(self._fila)]\n",
        "  \n",
        "  def toString(self):\n",
        "    for i in range(self._fila):\n",
        "      print(self._data[i])\n",
        "  \n",
        "  def clear(self, dato):\n",
        "    self._data = [[dato] * (self._columna) for x in range(self._fila)]\n",
        "\n",
        "  def getRowSize(self):\n",
        "    return self._fila\n",
        "  \n",
        "  def getColSize(self):\n",
        "    return self._columna\n",
        "\n",
        "  def set_item(self, fila, columna, dato):\n",
        "    self._data[fila][columna] = dato\n",
        "\n",
        "  def get_item(self, fila, columna):\n",
        "    return self._data[fila][columna]"
      ],
      "execution_count": 2,
      "outputs": []
    },
    {
      "cell_type": "code",
      "metadata": {
        "id": "RtIFLbdqJgdx"
      },
      "source": [
        "class Juego:\n",
        "  def __init__(self, fila, columna, pob_inicial, gen):\n",
        "    self.tablero = Array2D(fila, columna)\n",
        "    self.gen = gen - 1\n",
        "    self.generacion = 1\n",
        "    self.tablero.clear(\"M\")\n",
        "    for par in pob_inicial:\n",
        "      self.tablero.set_item(par[0], par[1], \"V\") \n",
        "\n",
        "  def coordenadas(self):\n",
        "    mapa = []\n",
        "    for r in range(self.tablero.getRowSize()):\n",
        "      for c in range(self.tablero.getColSize()):\n",
        "        coordenada = [r, c]\n",
        "        mapa.append(coordenada)\n",
        "    return mapa\n",
        "\n",
        "  def toString(self):\n",
        "    print(f\"-----  GENERACION {self.generacion} -----\")\n",
        "    self.tablero.toString()\n",
        "\n",
        "  def get_vecinos(self, fila, columna):\n",
        "    vecinos = []\n",
        "    for ren in range(fila - 1, fila + 2, 1):\n",
        "      for col in range(columna - 1, columna + 2, 1):\n",
        "        if ren < 0 or ren >= self.tablero.getRowSize() or col < 0 or col >= self.tablero.getColSize() or (ren == fila and col == columna):\n",
        "          pass\n",
        "        else:\n",
        "          vecinos.append((ren,col))\n",
        "    return vecinos\n",
        "  \n",
        "  def get_vecinosVivos(self, fila, columna):\n",
        "    vivos = 0\n",
        "    vecinos = self.get_vecinos(fila, columna)\n",
        "    for par in vecinos:\n",
        "      if self.tablero.get_item(par[0], par[1]) == \"V\":\n",
        "        vivos += 1\n",
        "    return vivos\n",
        "\n",
        "  def reglas(self):\n",
        "    tableroN = []\n",
        "    self.generacion += 1\n",
        "    for coordenada in self.coordenadas():\n",
        "      celula = self.tablero.get_item(coordenada[0], coordenada[1])\n",
        "      vvCelula = self.get_vecinosVivos(coordenada[0], coordenada[1])\n",
        "      if celula == \"V\":\n",
        "        if vvCelula <= 1 or vvCelula >=4:\n",
        "          tableroN.append(\"M\")\n",
        "        elif vvCelula == 2 or vvCelula == 3:\n",
        "          tableroN.append(\"V\")\n",
        "      else:\n",
        "        if vvCelula == 3:\n",
        "          tableroN.append(\"V\")\n",
        "        else:\n",
        "          tableroN.append(\"M\")\n",
        "    for c in self.coordenadas():\n",
        "      self.tablero.set_item(c[0], c[1], tableroN[0])\n",
        "      tableroN.pop(0)\n",
        "    self.toString()\n",
        "\n",
        "  def iniciar(self):\n",
        "    self.toString()\n",
        "    for gen in range(self.gen):\n",
        "      self.reglas()\n"
      ],
      "execution_count": 45,
      "outputs": []
    },
    {
      "cell_type": "code",
      "metadata": {
        "colab": {
          "base_uri": "https://localhost:8080/"
        },
        "id": "PM11-t2z_Os5",
        "outputId": "2b49c8ae-2e5a-4bd0-d4a3-7212126c6763"
      },
      "source": [
        "juego = Juego(6, 5, [(2,2),(3,1),(3,2),(3,3)], 5)\n",
        "juego.iniciar()"
      ],
      "execution_count": 47,
      "outputs": [
        {
          "output_type": "stream",
          "name": "stdout",
          "text": [
            "-----  GENERACION 1 -----\n",
            "['M', 'M', 'M', 'M', 'M']\n",
            "['M', 'M', 'M', 'M', 'M']\n",
            "['M', 'M', 'V', 'M', 'M']\n",
            "['M', 'V', 'V', 'V', 'M']\n",
            "['M', 'M', 'M', 'M', 'M']\n",
            "['M', 'M', 'M', 'M', 'M']\n",
            "-----  GENERACION 2 -----\n",
            "['M', 'M', 'M', 'M', 'M']\n",
            "['M', 'M', 'M', 'M', 'M']\n",
            "['M', 'V', 'V', 'V', 'M']\n",
            "['M', 'V', 'V', 'V', 'M']\n",
            "['M', 'M', 'V', 'M', 'M']\n",
            "['M', 'M', 'M', 'M', 'M']\n",
            "-----  GENERACION 3 -----\n",
            "['M', 'M', 'M', 'M', 'M']\n",
            "['M', 'M', 'V', 'M', 'M']\n",
            "['M', 'V', 'M', 'V', 'M']\n",
            "['M', 'M', 'M', 'M', 'M']\n",
            "['M', 'V', 'V', 'V', 'M']\n",
            "['M', 'M', 'M', 'M', 'M']\n",
            "-----  GENERACION 4 -----\n",
            "['M', 'M', 'M', 'M', 'M']\n",
            "['M', 'M', 'V', 'M', 'M']\n",
            "['M', 'M', 'V', 'M', 'M']\n",
            "['M', 'V', 'M', 'V', 'M']\n",
            "['M', 'M', 'V', 'M', 'M']\n",
            "['M', 'M', 'V', 'M', 'M']\n",
            "-----  GENERACION 5 -----\n",
            "['M', 'M', 'M', 'M', 'M']\n",
            "['M', 'M', 'M', 'M', 'M']\n",
            "['M', 'V', 'V', 'V', 'M']\n",
            "['M', 'V', 'M', 'V', 'M']\n",
            "['M', 'V', 'V', 'V', 'M']\n",
            "['M', 'M', 'M', 'M', 'M']\n"
          ]
        }
      ]
    }
  ]
}