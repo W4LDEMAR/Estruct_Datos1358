{
  "nbformat": 4,
  "nbformat_minor": 0,
  "metadata": {
    "colab": {
      "name": "ADT2D.ipynb",
      "provenance": [],
      "collapsed_sections": []
    },
    "kernelspec": {
      "name": "python3",
      "display_name": "Python 3"
    },
    "language_info": {
      "name": "python"
    }
  },
  "cells": [
    {
      "cell_type": "code",
      "metadata": {
        "id": "1NMK6BvhOTbD"
      },
      "source": [
        "#Estructura de datos\n",
        "#Sosa Hernandez Saul \n",
        "\n",
        "class Array2D():\n",
        "  def __init__(self, fila, columna):\n",
        "    self._fila = fila\n",
        "    self._columna = columna\n",
        "    self._data = [[0] * (self._columna) for x in range(self._fila)]\n",
        "  \n",
        "  def toString(self):\n",
        "    print(self._data)\n",
        "  \n",
        "  def clear(self, dato):\n",
        "    self._data = [[dato] * (self._columna) for x in range(self._fila)]\n",
        "\n",
        "  def getRowSize(self):\n",
        "    print(self._fila)\n",
        "  \n",
        "  def getColSize(self):\n",
        "    print(self._columna)\n",
        "\n",
        "  def set_item(self, fila, columna, dato):\n",
        "    self._data[fila][columna] = dato\n",
        "\n",
        "  def get_item(self, fila, columna):\n",
        "    print(self._data[fila][columna])"
      ],
      "execution_count": 19,
      "outputs": []
    },
    {
      "cell_type": "code",
      "metadata": {
        "colab": {
          "base_uri": "https://localhost:8080/"
        },
        "id": "TUkc_QV4SALt",
        "outputId": "055ea655-ca97-4e4b-f419-acdf02c74202"
      },
      "source": [
        "tarea = Array2D(3,4)\n",
        "tarea.toString()\n",
        "tarea.set_item(1, 3, \"Jose\")\n",
        "tarea.set_item(2, 2, \"Diana\")\n",
        "tarea.toString()\n",
        "tarea.get_item(2, 2)\n",
        "tarea.clear(None)\n",
        "tarea.toString()\n",
        "tarea.clear(\"Maria\")\n",
        "tarea.toString()\n",
        "tarea.getRowSize()\n",
        "tarea.getColSize()"
      ],
      "execution_count": 25,
      "outputs": [
        {
          "output_type": "stream",
          "name": "stdout",
          "text": [
            "[[0, 0, 0, 0], [0, 0, 0, 0], [0, 0, 0, 0]]\n",
            "[[0, 0, 0, 0], [0, 0, 0, 'Jose'], [0, 0, 'Diana', 0]]\n",
            "Diana\n",
            "[[None, None, None, None], [None, None, None, None], [None, None, None, None]]\n",
            "[['Maria', 'Maria', 'Maria', 'Maria'], ['Maria', 'Maria', 'Maria', 'Maria'], ['Maria', 'Maria', 'Maria', 'Maria']]\n",
            "3\n",
            "4\n"
          ]
        }
      ]
    }
  ]
}