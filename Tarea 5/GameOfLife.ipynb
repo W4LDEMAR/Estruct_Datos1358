{
  "nbformat": 4,
  "nbformat_minor": 0,
  "metadata": {
    "colab": {
      "name": "GameOfLife.ipynb",
      "provenance": [],
      "collapsed_sections": []
    },
    "kernelspec": {
      "name": "python3",
      "display_name": "Python 3"
    },
    "language_info": {
      "name": "python"
    }
  },
  "cells": [
    {
      "cell_type": "code",
      "metadata": {
        "id": "reniWpwk8xTa"
      },
      "source": [
        "#Estructura de datos\n",
        "#Sosa Hernandez Saul \n",
        "\n",
        "class Array2D():\n",
        "  def __init__(self, fila, columna):\n",
        "    self._fila = fila\n",
        "    self._columna = columna\n",
        "    self._data = [[0] * (self._columna) for x in range(self._fila)]\n",
        "  \n",
        "  def toString(self):\n",
        "    for i in range(self._fila):\n",
        "      print(self._data[i])\n",
        "  \n",
        "  def clear(self, dato):\n",
        "    self._data = [[dato] * (self._columna) for x in range(self._fila)]\n",
        "\n",
        "  def getRowSize(self):\n",
        "    return self._fila\n",
        "  \n",
        "  def getColSize(self):\n",
        "    return self._columna\n",
        "\n",
        "  def set_item(self, fila, columna, dato):\n",
        "    self._data[fila][columna] = dato\n",
        "\n",
        "  def get_item(self, fila, columna):\n",
        "    return self._data[fila][columna]"
      ],
      "execution_count": 28,
      "outputs": []
    },
    {
      "cell_type": "code",
      "metadata": {
        "id": "RtIFLbdqJgdx"
      },
      "source": [
        "class Juego:\n",
        "  def __init__(self, fila, columna, pob_inicial, gen):\n",
        "    self.tablero = Array2D(fila, columna)\n",
        "    self.gen = gen\n",
        "    self.generacion = 1\n",
        "    self.tablero.clear(\"M\")\n",
        "    for par in pob_inicial:\n",
        "      self.tablero.set_item(par[0], par[1], \"v\") \n",
        "\n",
        "  def toString(self):\n",
        "    print(f\"-----  GENERACION {self.generacion} -----\")\n",
        "    self.tablero.toString()\n",
        "\n",
        "  def get_vecinos(self, fila, columna):\n",
        "    for ren in range(fila - 1, fila + 1, 1):\n",
        "      for col in range(columna - 1, columna + 1, 1):\n",
        "        if ren >= 0 and ren <= self.tablero.getRowSize():\n",
        "          if col >= 0 and col <= self.tablero.getColSize():\n",
        "            print(ren, col)"
      ],
      "execution_count": 33,
      "outputs": []
    },
    {
      "cell_type": "code",
      "metadata": {
        "colab": {
          "base_uri": "https://localhost:8080/"
        },
        "id": "PM11-t2z_Os5",
        "outputId": "3d4f94c0-cb1c-4e02-c3a7-00ab24d1c08f"
      },
      "source": [
        "juego = Juego(6, 5, [(2,2),(3,1),(3,2),(3,3)], 5)\n",
        "juego.toString()\n",
        "juego.get_vecinos(2,2)"
      ],
      "execution_count": 32,
      "outputs": [
        {
          "output_type": "stream",
          "name": "stdout",
          "text": [
            "-----  GENERACION 1 -----\n",
            "['M', 'M', 'M', 'M', 'M']\n",
            "['M', 'M', 'M', 'M', 'M']\n",
            "['M', 'M', 'v', 'M', 'M']\n",
            "['M', 'v', 'v', 'v', 'M']\n",
            "['M', 'M', 'M', 'M', 'M']\n",
            "['M', 'M', 'M', 'M', 'M']\n",
            "1 1\n",
            "1 2\n",
            "2 1\n",
            "2 2\n"
          ]
        }
      ]
    }
  ]
}