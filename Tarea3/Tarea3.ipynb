{
  "nbformat": 4,
  "nbformat_minor": 0,
  "metadata": {
    "colab": {
      "name": "Tarea3.ipynb",
      "provenance": []
    },
    "kernelspec": {
      "name": "python3",
      "display_name": "Python 3"
    },
    "language_info": {
      "name": "python"
    }
  },
  "cells": [
    {
      "cell_type": "code",
      "metadata": {
        "id": "PN8t69GoPvJd"
      },
      "source": [
        "class Array():\n",
        "  def _init_( self , tamano):\n",
        "    self.__tamano = tamano\n",
        "    self._data = [0 for x in range(self._tamano)] \n",
        "\n",
        "  def getItem(self, index):\n",
        "    return self.__data[index]\n",
        "  \n",
        "  def toString(self):\n",
        "    print(self.__data)\n",
        "  \n",
        "  def getLength(self):\n",
        "      return self._tamano #Ya tenemos un atributo que retornar sin usar len()\n",
        "  \n",
        "  def clear(self, dato):\n",
        "    self._data =  [dato for x in self._data] \n",
        "\n",
        "  def _check_limits_(self, index):\n",
        "    return index >= 0 and index < self.getLength() #Validacion de existencia del index\n",
        "  \n",
        "  def set_Item(self, index, dato):\n",
        "    if self._check_limits_(index): #Validacion\n",
        "      self.__data[index] = dato #Insertar elemento\n",
        "    else:  \n",
        "      raise Exception(\"Error de limites en index\")\n"
      ],
      "execution_count": null,
      "outputs": []
    }
  ]
}