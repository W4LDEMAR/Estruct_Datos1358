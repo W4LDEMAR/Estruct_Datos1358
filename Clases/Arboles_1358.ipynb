{
  "nbformat": 4,
  "nbformat_minor": 0,
  "metadata": {
    "colab": {
      "name": "Arboles_1358.ipynb",
      "provenance": [],
      "collapsed_sections": []
    },
    "kernelspec": {
      "name": "python3",
      "display_name": "Python 3"
    },
    "language_info": {
      "name": "python"
    }
  },
  "cells": [
    {
      "cell_type": "code",
      "metadata": {
        "id": "bSyqwQY1umsy"
      },
      "source": [
        "#Estructura de datos\n",
        "#Sosa Hernandez Saul Waldemar\n",
        "\n",
        "class BinaryNode:\n",
        "  def __init__(self, value, left = None, right = None):\n",
        "    self.data = value\n",
        "    self.left = left\n",
        "    self.right = right\n"
      ],
      "execution_count": 12,
      "outputs": []
    },
    {
      "cell_type": "code",
      "metadata": {
        "id": "9edazYQTu5z9"
      },
      "source": [
        "class TernaryNode:\n",
        "  def __init__(self, value, left = None, center = None, right = None):\n",
        "    self.data = value\n",
        "    self.left = left\n",
        "    self.right = right\n",
        "    self.center = center\n"
      ],
      "execution_count": 13,
      "outputs": []
    },
    {
      "cell_type": "code",
      "metadata": {
        "colab": {
          "base_uri": "https://localhost:8080/"
        },
        "id": "J5ZxurYDvIC2",
        "outputId": "44f5a447-e4c8-426b-8f99-9e2d79e45716"
      },
      "source": [
        "root = BinaryNode(\"R\", BinaryNode(\"C\"), BinaryNode(\"H\"))\n",
        "print(root.left.data)"
      ],
      "execution_count": 7,
      "outputs": [
        {
          "output_type": "stream",
          "name": "stdout",
          "text": [
            "C\n"
          ]
        }
      ]
    },
    {
      "cell_type": "code",
      "metadata": {
        "colab": {
          "base_uri": "https://localhost:8080/"
        },
        "id": "k_uxTpHCwLIk",
        "outputId": "0083ab7a-2f12-4dc2-ac98-7cf905271536"
      },
      "source": [
        "root = TernaryNode(4, TernaryNode(3, TernaryNode(5, TernaryNode(2)),\\\n",
        "                TernaryNode(5), TernaryNode(2)), None, TernaryNode(5))\n",
        "print(root.left.left.left.data)\n",
        "print(\"-----------------------\")\n",
        "aux = root \n",
        "while aux.left != None:\n",
        "  aux = aux.left\n",
        "print(aux.data)\n",
        "print(\"-----------------------\")\n",
        "print(root.left.right.data)"
      ],
      "execution_count": 14,
      "outputs": [
        {
          "output_type": "stream",
          "name": "stdout",
          "text": [
            "2\n",
            "-----------------------\n",
            "2\n",
            "-----------------------\n",
            "2\n"
          ]
        }
      ]
    },
    {
      "cell_type": "code",
      "metadata": {
        "colab": {
          "base_uri": "https://localhost:8080/"
        },
        "id": "MpdoXTXm48IS",
        "outputId": "544ab91f-b952-4dfd-a45a-d89a1362a956"
      },
      "source": [
        "root = BinaryNode(\"Santi\", None, BinaryNode(\"Jesus\", \\\n",
        "                  BinaryNode(\"Pedro\", None, BinaryNode(\"Pedro Jr\"))))\n",
        "print(root.right.left.right.data)"
      ],
      "execution_count": 17,
      "outputs": [
        {
          "output_type": "stream",
          "name": "stdout",
          "text": [
            "Pedro Jr\n"
          ]
        }
      ]
    }
  ]
}