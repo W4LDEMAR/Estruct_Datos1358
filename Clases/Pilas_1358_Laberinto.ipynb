{
  "nbformat": 4,
  "nbformat_minor": 0,
  "metadata": {
    "colab": {
      "name": "Pilas_1358_Laberinto.ipynb",
      "provenance": [],
      "collapsed_sections": []
    },
    "kernelspec": {
      "name": "python3",
      "display_name": "Python 3"
    },
    "language_info": {
      "name": "python"
    }
  },
  "cells": [
    {
      "cell_type": "code",
      "metadata": {
        "id": "pvhP3-kFTWv4"
      },
      "source": [
        "#Estructura de datos 1358\n",
        "#Sosa Hernandez Saul Waldemar\n",
        "\n",
        "class StackADT:\n",
        "  def __init__(self):\n",
        "    self.data = list()\n",
        "    self.top = 0\n",
        "\n",
        "  def is_empty(self):\n",
        "    return self.top == 0\n",
        "\n",
        "  def lengh(self):\n",
        "    return self.top\n",
        "\n",
        "  def pop(self):\n",
        "    if not self.is_empty():\n",
        "      self.top -= 1\n",
        "      return self.data.pop()\n",
        "\n",
        "  def peek(self):\n",
        "    return self.data[-1]\n",
        "\n",
        "  def push(self, value):\n",
        "      self.data.append(value)\n",
        "      self.top += 1\n",
        "\n",
        "  def toString(self):\n",
        "    print(\"Estado de la pila:\")\n",
        "    for x in self.data[ : : -1]:\n",
        "      print(f\"|  {x}  |\")"
      ],
      "execution_count": 1,
      "outputs": []
    },
    {
      "cell_type": "code",
      "metadata": {
        "colab": {
          "base_uri": "https://localhost:8080/"
        },
        "id": "sutWig85XaxX",
        "outputId": "ba5826ee-a637-49f0-f41c-18030654e01d"
      },
      "source": [
        "pila = StackADT()\n",
        "pila.push(10)\n",
        "pila.push(20)\n",
        "pila.push(30)\n",
        "pila.toString()\n",
        "print(\"Llamada a peek\" , pila.peek())\n",
        "print(\"Usando pop ---->\")\n",
        "pila.pop()\n",
        "pila.toString()\n",
        "pila.push(25)\n",
        "pila.push(26)\n",
        "pila.toString()\n",
        "print(f\"La pila tiene {pila.lengh()} elementos\")"
      ],
      "execution_count": 2,
      "outputs": [
        {
          "output_type": "stream",
          "name": "stdout",
          "text": [
            "Estado de la pila:\n",
            "|  30  |\n",
            "|  20  |\n",
            "|  10  |\n",
            "Llamada a peek 30\n",
            "Usando pop ---->\n",
            "Estado de la pila:\n",
            "|  20  |\n",
            "|  10  |\n",
            "Estado de la pila:\n",
            "|  26  |\n",
            "|  25  |\n",
            "|  20  |\n",
            "|  10  |\n",
            "La pila tiene 4 elementos\n"
          ]
        }
      ]
    },
    {
      "cell_type": "code",
      "metadata": {
        "id": "GqtrNT47pql4"
      },
      "source": [
        "class Array2D():\n",
        "  def __init__(self, ren, col):\n",
        "    self.__columnas = col\n",
        "    self.__renglones = ren\n",
        "    self.__data = [[ 0 for i in range(col)]for i in range (ren)]\n",
        "\n",
        "  def to_string(self):\n",
        "    for i in range(self.__renglones):\n",
        "      print(self.__data[i])\n",
        "\n",
        "  def clear(self, dato):\n",
        "    for i in range (self.__renglones):\n",
        "      for x in range(self.__columnas):\n",
        "        self.__data[i][x] = dato\n",
        "\n",
        "  def get_row_size(self):\n",
        "    return self.__renglones\n",
        "\n",
        "  def get_col_size(self):\n",
        "    return self.__columnas\n",
        "\n",
        "  def set_item(self,ren,col,dato):\n",
        "    self.__data[ren][col] = dato\n",
        "\n",
        "  def get_item(self,ren,col):\n",
        "    return self.__data[ren][col]"
      ],
      "execution_count": 3,
      "outputs": []
    },
    {
      "cell_type": "code",
      "metadata": {
        "id": "NqEJkQ6Kqm1d"
      },
      "source": [
        "class LaberintoADT:\n",
        "  def __init__(self, archivo):\n",
        "    self.laberinto = None\n",
        "    self.copia = None\n",
        "    self.camino = StackADT()\n",
        "    self.visitados = []\n",
        "    self.inicializa(archivo)\n",
        "    self.laberinto.to_string()\n",
        "    print(\"Stack\")\n",
        "    self.camino.to_string()\n",
        "\n",
        "  def inicializa(self, archivo):\n",
        "    entrada = open(archivo, \"rt\")\n",
        "    self.laberinto = Array2D(int(entrada.readline().strip()), int(entrada.readline().strip()))\n",
        "    self.laberinto.clear(\"P\")\n",
        "    lineas = entrada.readlines()\n",
        "    for r in range( len(lineas)):\n",
        "      lineaBis = lineas[r].strip().split(',')\n",
        "      for c in  range( len(lineaBis )) :\n",
        "        self.laberinto.set_item(r,c,lineaBis[c])\n",
        "    for r in range(self.laberinto.get_row_size()):\n",
        "      for c in range(self.laberinto.get_col_size()):\n",
        "        if self.laberinto.get_item(r, c) == \"E\":\n",
        "          self.camino.push((r, c))\n",
        "\n",
        "  def guardar_copia(self):\n",
        "    self.copia = self.laberinto\n",
        "  \n",
        "  def get_copia(self):\n",
        "    return self.copia\n",
        "  \n",
        "  def ya_visitado(self, r, c):\n",
        "    resultado = False\n",
        "    if (r, c) in self.visitados:\n",
        "      resultado = True\n",
        "    return resultado\n"
      ],
      "execution_count": 6,
      "outputs": []
    },
    {
      "cell_type": "code",
      "metadata": {
        "colab": {
          "base_uri": "https://localhost:8080/"
        },
        "id": "qSCtZl5EuI9o",
        "outputId": "996ee750-a636-428f-9a26-cc632f9138c0"
      },
      "source": [
        "juego = LaberintoADT(\"entrada.txt\")"
      ],
      "execution_count": 5,
      "outputs": [
        {
          "output_type": "stream",
          "name": "stdout",
          "text": [
            "['P', 'P', 'P', 'P', 'P']\n",
            "['P', 'P', 'C', 'C', 'S']\n",
            "['P', 'C', 'C', 'P', 'P']\n",
            "['P', 'P', 'C', 'P', 'P']\n",
            "['P', 'P', 'E', 'P', 'P']\n"
          ]
        }
      ]
    }
  ]
}