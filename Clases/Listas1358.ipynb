{
  "nbformat": 4,
  "nbformat_minor": 0,
  "metadata": {
    "colab": {
      "name": "Listas1358.ipynb",
      "provenance": [],
      "collapsed_sections": []
    },
    "kernelspec": {
      "name": "python3",
      "display_name": "Python 3"
    },
    "language_info": {
      "name": "python"
    }
  },
  "cells": [
    {
      "cell_type": "code",
      "metadata": {
        "id": "3HYAO9tvR9qw"
      },
      "source": [
        "#Estructura de datos 1358\n",
        "#Sosa Hernandez Saul Waldemar\n",
        "\n",
        "\n",
        "class Nodo:\n",
        "  def __init__(self, value, siguiente = None):\n",
        "    self.data = value\n",
        "    self.next = siguiente\n"
      ],
      "execution_count": 15,
      "outputs": []
    },
    {
      "cell_type": "code",
      "metadata": {
        "colab": {
          "base_uri": "https://localhost:8080/"
        },
        "id": "R-BM6nvNThi0",
        "outputId": "ad182f8a-5782-4cff-d029-a79a3c3a80ff"
      },
      "source": [
        "head = Nodo(30)\n",
        "print(head.data)\n",
        "print(head.next)"
      ],
      "execution_count": 14,
      "outputs": [
        {
          "output_type": "stream",
          "name": "stdout",
          "text": [
            "30\n",
            "None\n"
          ]
        }
      ]
    },
    {
      "cell_type": "code",
      "metadata": {
        "colab": {
          "base_uri": "https://localhost:8080/"
        },
        "id": "ZxKHyHEGVbR2",
        "outputId": "f91cc32c-5a9e-4bc7-b00d-47b55269d2ce"
      },
      "source": [
        "head2 = Nodo(20)\n",
        "head2.next = Nodo(15)\n",
        "print(head2.data)\n",
        "print(head2.next.data)"
      ],
      "execution_count": 11,
      "outputs": [
        {
          "output_type": "stream",
          "name": "stdout",
          "text": [
            "20\n",
            "15\n"
          ]
        }
      ]
    },
    {
      "cell_type": "code",
      "metadata": {
        "colab": {
          "base_uri": "https://localhost:8080/"
        },
        "id": "l7B4pPUxZaJt",
        "outputId": "0ba9fc09-a947-404f-ed37-cd022553eeee"
      },
      "source": [
        "punto_entrada = Nodo(10, Nodo(20))\n",
        "print(punto_entrada.data)\n",
        "print(punto_entrada.next.data)"
      ],
      "execution_count": 13,
      "outputs": [
        {
          "output_type": "stream",
          "name": "stdout",
          "text": [
            "10\n",
            "20\n"
          ]
        }
      ]
    }
  ]
}