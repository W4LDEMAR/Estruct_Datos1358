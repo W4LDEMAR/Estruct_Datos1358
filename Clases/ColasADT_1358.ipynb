{
  "nbformat": 4,
  "nbformat_minor": 0,
  "metadata": {
    "colab": {
      "name": "ColasADT_1358",
      "provenance": [],
      "collapsed_sections": []
    },
    "kernelspec": {
      "name": "python3",
      "display_name": "Python 3"
    },
    "language_info": {
      "name": "python"
    }
  },
  "cells": [
    {
      "cell_type": "code",
      "metadata": {
        "id": "yTN1-pxaqGvi"
      },
      "source": [
        "#Estructura de datos\n",
        "#Sosa Hernandez Saul Waldemar\n",
        "\n",
        "class QueueADT:\n",
        "  def __init__(self):\n",
        "    self.__data = []\n",
        "\n",
        "  def is_empty(self):\n",
        "    return len(self.__data) == 0\n",
        "  \n",
        "  def length(self):\n",
        "    return len(self.__data)\n",
        "  \n",
        "  def enqueue(self, dato):\n",
        "    self.__data.append(dato)\n",
        "\n",
        "  def dequeue(self):\n",
        "    if not self.is_empty():\n",
        "      return self.__data.pop(0)\n",
        "  \n",
        "  def to_string(self):\n",
        "    for x in self.__data:\n",
        "      print(f\"|  {x}  | <----\", end=\" \")\n",
        "    print(\"\")"
      ],
      "execution_count": 1,
      "outputs": []
    },
    {
      "cell_type": "code",
      "metadata": {
        "colab": {
          "base_uri": "https://localhost:8080/"
        },
        "id": "a9WlF0u4ulU4",
        "outputId": "e145ddad-85b6-40c5-d3d3-03729e511bb6"
      },
      "source": [
        "cola = QueueADT()\n",
        "print(\"Esta vacio?\", cola.is_empty())\n",
        "print(\"Numero de elementos: \", cola.length())\n",
        "cola.enqueue(10)\n",
        "cola.to_string()\n",
        "cola.enqueue(20)\n",
        "cola.enqueue(30)\n",
        "cola.enqueue(40)\n",
        "cola.to_string()\n",
        "print(\"Numero de elementos: \", cola.length())\n",
        "cola.dequeue()\n",
        "cola.to_string()"
      ],
      "execution_count": 2,
      "outputs": [
        {
          "output_type": "stream",
          "name": "stdout",
          "text": [
            "Esta vacio? True\n",
            "Numero de elementos:  0\n",
            "|  10  | <---- \n",
            "|  10  | <---- |  20  | <---- |  30  | <---- |  40  | <---- \n",
            "Numero de elementos:  4\n",
            "|  20  | <---- |  30  | <---- |  40  | <---- \n"
          ]
        }
      ]
    },
    {
      "cell_type": "code",
      "metadata": {
        "id": "MmkaLvFO-gj9"
      },
      "source": [
        "class ColaPrioridadAcotada:\n",
        "  def __init__(self, niveles):\n",
        "    self.__data = [QueueADT() for x in range(niveles)]\n",
        "    self.length = 0\n",
        "\n",
        "  def is_empty(self):\n",
        "    return self.length == 0\n",
        "\n",
        "  def length(self):\n",
        "    return self.length\n",
        "  \n",
        "  def enqueue(self, nivel, dato):\n",
        "    if nivel >= 0 and nivel < len(self.__data):\n",
        "      self.__data[nivel].enqueue(dato)\n",
        "      self.length += 1\n",
        "  \n",
        "  def to_string(self):\n",
        "    for p in range(len(self.__data)):\n",
        "      print(f\"Prioridad {p} = \", end = \"\")\n",
        "      self.__data[p].to_string()\n",
        "\n",
        "  def dequeue(self):\n",
        "    for nivel in self.__data:\n",
        "      if not nivel.is_empty():\n",
        "        self.length -= 1\n",
        "        return nivel.dequeue()\n"
      ],
      "execution_count": 16,
      "outputs": []
    },
    {
      "cell_type": "code",
      "metadata": {
        "colab": {
          "base_uri": "https://localhost:8080/"
        },
        "id": "t7YK7_bICsat",
        "outputId": "1284081d-3d90-4a8d-b3f5-bbe64110bddf"
      },
      "source": [
        "cpa = ColaPrioridadAcotada(7)\n",
        "cpa.enqueue(4, \"A\")\n",
        "cpa.enqueue(2, \"Z\")\n",
        "cpa.enqueue(4, \"N\")\n",
        "cpa.enqueue(1, \"P\")\n",
        "cpa.to_string()\n",
        "print(\".-.-.-..-.-.-.-.-.-.-.-.-.-.\")\n",
        "cpa.dequeue()\n",
        "cpa.to_string()"
      ],
      "execution_count": 18,
      "outputs": [
        {
          "output_type": "stream",
          "name": "stdout",
          "text": [
            "Prioridad 0 = \n",
            "Prioridad 1 = |  P  | <---- \n",
            "Prioridad 2 = |  Z  | <---- \n",
            "Prioridad 3 = \n",
            "Prioridad 4 = |  A  | <---- |  N  | <---- \n",
            "Prioridad 5 = \n",
            "Prioridad 6 = \n",
            ".-.-.-..-.-.-.-.-.-.-.-.-.-.\n",
            "Prioridad 0 = \n",
            "Prioridad 1 = \n",
            "Prioridad 2 = |  Z  | <---- \n",
            "Prioridad 3 = \n",
            "Prioridad 4 = |  A  | <---- |  N  | <---- \n",
            "Prioridad 5 = \n",
            "Prioridad 6 = \n"
          ]
        }
      ]
    },
    {
      "cell_type": "code",
      "metadata": {
        "id": "DAUsQY7WHkG5"
      },
      "source": [
        "class ColaDePrioridad:\n",
        "  def __init__(self):\n",
        "    self.__data = []\n",
        "    self.__length = 0\n",
        "\n",
        "  def is_empty(self):\n",
        "    return self.__length == 0\n",
        "\n",
        "  def length(self):\n",
        "    return self.__length\n",
        "\n",
        "  def enqueue(self, prioridad, dato):\n",
        "    existe = False\n",
        "    indice = 0\n",
        "    for index in range(len(self.__data)):\n",
        "      if self.__data[index][\"P\"] == prioridad:\n",
        "        self.__data[index][\"cola\"].enqueue(dato)\n",
        "        existe = True\n",
        "        indice = index\n",
        "        break\n",
        "    if existe:\n",
        "      self.__data[indice][\"cola\"].enqueue(dato)\n",
        "    else:\n",
        "      self.__data[indice].append({\"p\": prioridad, \"cola\": QueueADT()})\n",
        "      self.__data[-1][\"cola\"].enqueue(dato)"
      ],
      "execution_count": 23,
      "outputs": []
    },
    {
      "cell_type": "code",
      "metadata": {
        "id": "Lc_Mke_0JQuJ"
      },
      "source": [
        "cp = ColaDePrioridad()"
      ],
      "execution_count": 25,
      "outputs": []
    }
  ]
}