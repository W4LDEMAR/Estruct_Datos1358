{
  "nbformat": 4,
  "nbformat_minor": 0,
  "metadata": {
    "colab": {
      "name": "ColasADT_1358",
      "provenance": [],
      "collapsed_sections": []
    },
    "kernelspec": {
      "name": "python3",
      "display_name": "Python 3"
    },
    "language_info": {
      "name": "python"
    }
  },
  "cells": [
    {
      "cell_type": "code",
      "metadata": {
        "id": "yTN1-pxaqGvi"
      },
      "source": [
        "#Estructura de datos\n",
        "#Sosa Hernandez Saul Waldemar\n",
        "\n",
        "class QueueADT:\n",
        "  def __init__(self):\n",
        "    self.__data = []\n",
        "\n",
        "  def is_empty(self):\n",
        "    return len(self.__data) == 0\n",
        "  \n",
        "  def length(self):\n",
        "    return len(self.__data)\n",
        "  \n",
        "  def enqueue(self, dato):\n",
        "    self.__data.append(dato)\n",
        "\n",
        "  def dequeue(self):\n",
        "    if not self.is_empty():\n",
        "      return self.__data.pop(0)\n",
        "  \n",
        "  def to_string(self):\n",
        "    for x in self.__data:\n",
        "      print(f\"|  {x}  | <----\", end=\" \")\n",
        "    print(\"\")"
      ],
      "execution_count": null,
      "outputs": []
    },
    {
      "cell_type": "code",
      "metadata": {
        "colab": {
          "base_uri": "https://localhost:8080/"
        },
        "id": "a9WlF0u4ulU4",
        "outputId": "c36e9b94-f930-4650-92ba-57fe1130f1e6"
      },
      "source": [
        "cola = QueueADT()\n",
        "print(\"Esta vacio?\", cola.is_empty())\n",
        "print(\"Numero de elementos: \", cola.length())\n",
        "cola.enqueue(10)\n",
        "cola.to_string()\n",
        "cola.enqueue(20)\n",
        "cola.enqueue(30)\n",
        "cola.enqueue(40)\n",
        "cola.to_string()\n",
        "print(\"Numero de elementos: \", cola.length())\n",
        "cola.dequeue()\n",
        "cola.to_string()"
      ],
      "execution_count": null,
      "outputs": [
        {
          "output_type": "stream",
          "name": "stdout",
          "text": [
            "Esta vacio? True\n",
            "Numero de elementos:  0\n",
            "|  10  | <---- \n",
            "|  10  | <---- |  20  | <---- |  30  | <---- |  40  | <---- \n",
            "Numero de elementos:  4\n",
            "|  20  | <---- |  30  | <---- |  40  | <---- \n"
          ]
        }
      ]
    }
  ]
}